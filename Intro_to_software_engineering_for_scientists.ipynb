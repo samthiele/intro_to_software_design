{
 "cells": [
  {
   "cell_type": "markdown",
   "metadata": {
    "id": "Vipof2Q5x0Wz"
   },
   "source": [
    "# An introduction to software design (for scientists)\n",
    "\n",
    "Scientists write terrible code. Arguably, most people write terrible code, but our job is to explore and try new thing, so it makes sense that this involves a lot of nasty code. Think \"prototype\" algorithms, messy data munging and loooots of absolute file paths - **hero code** written during late-night, caffeine fuelled binges, and requiring a superhero (you) to safely use, repurpose, or even run on a different computer. \n",
    "\n",
    "This is a problem. While hero code is part of the creative process - it's inevitable when we want to test a new idea or see if something works - writing ONLY hero code wastes time and causes excessive hair loss by:\n",
    "\n",
    "1. Being generally hard to debug (as complexity increases)\n",
    "2. Requiring extensive rewriting every time it is used (in different situations)\n",
    "3. Including it's author as a dependency - if nobody can use your code without your help then either nobody will use it or you'll be bombarded by pleas for help\n",
    "\n",
    "## Aims\n",
    "\n",
    "This tutorial aims to introduce three things:\n",
    "\n",
    "1. some of the principles of software design and why they matter, with a worked example.\n",
    "\n",
    "2. basic GIT usage.\n",
    "\n",
    "3. the python package system.\n",
    "\n",
    "We assume basic knowledge of python and numpy, although this is not entirely needed to grasp the main ideas being presented.\n",
    "\n",
    "## A short note on GIT\n",
    "\n",
    "This does not aim to be a comprehensive introduction to GIT - there are plenty of these [available already](https://medium.com/swlh/an-introduction-to-git-and-github-22ecb4cb1256) - but we do intentionally use git in a basic way so that you can start becoming familiar with it. \n",
    "\n",
    "In short, git is essentially a version control system that tracks how code changes over time, and allows changes to be removed (*reverted*), or multiple versions (*forks*) to be created (e.g. for editing by different people) and subsequently merged (*pulled*).\n",
    "\n",
    "Combined with services like [GitHub](https://github.com/), this provides access to millions of open-source code projects and facilitates collaboration between developers.\n",
    "\n",
    "----\n",
    "<center>\n",
    "<img src=\"https://hikaruzone.files.wordpress.com/2015/10/in-case-of-fire-1-git-commit-2-git-push-3-leave-building2.png\" width=\"500px\">\n",
    "</center>\n",
    "\n",
    "---\n",
    "\n",
    "We won't go into the details of using git (please refer to the internets for that), but we'll use it to copy code and (later) look at some of the funky things it can do in the software engineering context.\n",
    "\n",
    "To start todays tutorial, we will *clone* (read copy) the tutorial files from GitHub. Start by making your own *fork* of the base repository by clicking the fork button on this page: https://gitlab.hzdr.de/thiele67/intro_to_software_design.\n"
   ]
  },
  {
   "cell_type": "code",
   "execution_count": 1,
   "metadata": {
    "colab": {
     "base_uri": "https://localhost:8080/"
    },
    "id": "Y9-o2pGzxvMS",
    "outputId": "473e0aac-71ea-4195-d08a-cf5978d24a73"
   },
   "outputs": [
    {
     "name": "stdout",
     "output_type": "stream",
     "text": [
      "Cloning into 'intro_to_software_design'...\n",
      "remote: Enumerating objects: 11, done.\u001b[K\n",
      "remote: Total 11 (delta 0), reused 0 (delta 0), pack-reused 11\u001b[K\n",
      "Unpacking objects: 100% (11/11), done.\n",
      "/content/intro_to_software_design\n"
     ]
    }
   ],
   "source": [
    "!git clone https://gitlab.hzdr.de/thiele67/intro_to_software_design.git\n",
    "%cd intro_to_software_design/"
   ]
  },
  {
   "cell_type": "markdown",
   "metadata": {
    "id": "ccdi-6m03a0z"
   },
   "source": [
    "Looking in the Files browser on the left, you should now see a folder called intro_to_sofware_design. This is the git repository that we have cloned - enter it and you'll see the tutorial files, including the jupyter notebook that contains the main part of this tutorial.\n",
    "\n",
    "But ... before launching this we need to quicly install *hylite* in this Colab instance. This can take a while, so please give it some time. \n",
    "\n",
    "Once it is done, please continue to the next part of this notebook."
   ]
  },
  {
   "cell_type": "code",
   "execution_count": 2,
   "metadata": {
    "id": "5bkdQiiQ3YeR"
   },
   "outputs": [],
   "source": [
    "!pip install hylite\n",
    "\n",
    "# clear output (it isn't easy being clean!)\n",
    "from IPython.display import clear_output\n",
    "clear_output()\n",
    "\n",
    "import hylite # check in case there are errors "
   ]
  },
  {
   "cell_type": "markdown",
   "metadata": {
    "id": "4DNyZsg7ADDm"
   },
   "source": [
    "## Part One: Hero Code\n",
    "\n",
    "-------\n",
    "\n",
    "As already mentioned, hero code is part of the creative process - it's inevitable when we want to test a new idea or see if something works. But writing ONLY hero code wastes time and causes excessive hair loss by:\n",
    "\n",
    "1. Being generally hard to debug (as complexity increases)\n",
    "2. Requiring extensive rewriting every time it is used (in different situations)\n",
    "3. Including it's author as a dependency - if nobody can use your code without your help then either nobody will use it or you'll be bombarded by pleas for help\n",
    "\n",
    "This last point is important: we all want our work to have impact. Code that runs once can do little more than create a pretty figure; code that can be deployed and run billions of times by many different users can change the world. And if you don't write code that is deployable, then nobody else will - they have better things to do.\n",
    "\n",
    "----\n",
    "\n",
    "<center><img src=\"https://miro.medium.com/max/480/1*VNh2ihTMppouMBHH5zZlzw.jpeg\" width=\"500px\"></center>\n",
    "\n",
    "---\n",
    "\n",
    "To start this mini-tutorial, I've included a typical example of hero-code. It loads a hyperspectral image dataset, applies a principal component analysis (PCA) to reduce it's dimensionality, and then classifies the result using a k-means classifer. While this could be easily done with existing libraries, I've implemented everything from scratch to serve as an example."
   ]
  },
  {
   "cell_type": "code",
   "execution_count": 3,
   "metadata": {
    "id": "omRwuqn0NKLp"
   },
   "outputs": [],
   "source": [
    "import hylite\n",
    "from hylite import io\n",
    "import numpy as np\n",
    "import matplotlib.pyplot as plt"
   ]
  },
  {
   "cell_type": "code",
   "execution_count": 8,
   "metadata": {
    "colab": {
     "base_uri": "https://localhost:8080/",
     "height": 209
    },
    "id": "mQgyWS2z_fpg",
    "outputId": "4e9704dc-366e-4119-f431-81e5d1c49426"
   },
   "outputs": [
    {
     "data": {
      "image/png": "[encoded data removed]",
      "text/plain": [
       "<Figure size 720x288 with 4 Axes>"
      ]
     },
     "metadata": {},
     "output_type": "display_data"
    }
   ],
   "source": [
    "# load awesome dataset\n",
    "image = io.load('/Users/thiele67/Documents/notebooks/teaching/Hero_to_Zero/sampleA.hdr')\n",
    "# image = io.load('sampleA.hdr')\n",
    "fig,ax = plt.subplots(1,4,figsize=(10,4))\n",
    "image.quick_plot(hylite.RGB, rot=True, ax=ax[0])\n",
    "\n",
    "# not sure what this does exactly, but it seemed like a good idea at the time\n",
    "X = image.data[3:-3,3:-3,10:-5].reshape((-1,435))\n",
    "X = X / 10000.\n",
    "\n",
    "# performance optimisation hack\n",
    "X = X[::3, : ]\n",
    "\n",
    "# PCA\n",
    "mean = np.mean(X, axis=0)\n",
    "X = X - mean[None, :]\n",
    "cov = np.dot(X.T, X) / (X.shape[0] - 1) \n",
    "eigval, eigvec = np.linalg.eig(cov)\n",
    "idx = np.argsort(np.abs(eigval))[::-1]\n",
    "eigvec = eigvec[:, idx]\n",
    "eigval = np.abs(eigval[idx])\n",
    "data = image.data[3:-3,3:-3,10:-5] - mean\n",
    "out = np.zeros((data.shape[0],data.shape[1],3))\n",
    "for b in range(0, 3):\n",
    "    out[..., b] = np.dot(data, eigvec[:, b])\n",
    "pca = hylite.HyImage(out)\n",
    "pca.quick_plot((0,1,2), rot=True, vmin=2, vmax=98, tscale=True, ax=ax[1])\n",
    "fig.show()\n",
    "\n",
    "# classify\n",
    "np.random.seed(42)\n",
    "xcentroid = np.random.randint(0,pca.xdim(),3)\n",
    "ycentroid = np.random.randint(0,pca.ydim(),3)\n",
    "centroids = np.vstack([xcentroid,ycentroid]).T\n",
    "centroids = pca.data[centroids[:,0], centroids[:,1],:]\n",
    "delta = np.array([np.inf, np.inf, np.inf])\n",
    "while np.max(delta > 0.0001):\n",
    "    clss = np.argmin( np.linalg.norm( (pca.data[None,:,:,:] - centroids[:,None,None,:]), axis=-1 ), axis=0 )\n",
    "    means = np.array([np.mean( pca.data[clss==i, :], axis=0) for i in range(3)])\n",
    "    delta = np.linalg.norm(centroids - means, axis=1 )\n",
    "    centroids = means\n",
    "hylite.HyImage(clss[...,None]).quick_plot(0,cmap='tab10',rot=True, ax=ax[2])\n",
    "\n",
    "# classify another image (using previously \"learned\" centroids)\n",
    "image = io.load('/Users/thiele67/Documents/notebooks/teaching/Hero_to_Zero/sampleB.hdr')\n",
    "# image = io.load('sampleB.hdr')\n",
    "\n",
    "data = image.data[3:-3,3:-3,10:-5] - mean\n",
    "out = np.zeros((data.shape[0],data.shape[1],3))\n",
    "for b in range(0, 3):\n",
    "    out[..., b] = np.dot(data, eigvec[:, b])\n",
    "clss = np.argmin( np.linalg.norm( (out[None,:,:,:] - centroids[:,None,None,:]), axis=-1 ), axis=0 )\n",
    "\n",
    "hylite.HyImage(clss[...,None]).quick_plot(0,cmap='tab10',rot=True, ax=ax[3])\n",
    "\n",
    "ax[0].set_title('a. RGB image')\n",
    "ax[1].set_title('b. PCA components')\n",
    "ax[2].set_title('c. K-means (sample A)')\n",
    "ax[3].set_title('d. K-means (sample B)')\n",
    "\n",
    "fig.show()"
   ]
  },
  {
   "cell_type": "markdown",
   "metadata": {
    "id": "LiR9lJ_JA3CX"
   },
   "source": [
    "#### Exercise\n",
    "\n",
    "Use the above code to create a set of elbow plots for different numbers of PCA components"
   ]
  },
  {
   "cell_type": "code",
   "execution_count": null,
   "metadata": {
    "id": "LLBUARmXA5sK"
   },
   "outputs": [],
   "source": []
  },
  {
   "cell_type": "markdown",
   "metadata": {
    "id": "bMePUzngA6YE"
   },
   "source": [
    "## Part two: A better way\n",
    "\n",
    "As the above exercise should have demonstrated, simple adjustments such as the number of classes or number of PCA dimensions are not easy (and basically require the code to be entirely re-written). Hence, while the code is not wrong (it works!) it is not reusable and basically useless except for the specific task and dataset it was written for.\n",
    "\n",
    "There are many different (and often conflicting) [design principles](https://www.callicoder.com/software-development-principles/) that can help ensure code is maintainable, durable and reusable. The most important points to keep in mind for this exercise are summarised below.\n",
    "\n",
    "###### KISS: Keep it simple, stupid\n",
    "It's very easy to make things far more complex than they need to be. Try and keep software tools focused and as simple as possible.\n",
    "\n",
    "###### DRY: Don't repeat yourself\n",
    "Break code into well defined, bit-sized functions rather than repeating (copy + paste is evil!) code. This makes it easier to (1) find and correct bugs, (2) make changes or updates and (3) provides lots of useful components for building new software.\n",
    "\n",
    "###### Single responsibility principle\n",
    "Functions should have a single purpose and be organised (into modules) according to their responsibilities\n",
    "\n",
    "###### Continuous testing\n",
    "Test always - every block of code should be tested individually during development (in e.g., a notebook environment) and then test functions written to automatically identify issues caused by subsequent changes. \n",
    "\n",
    "###### Document everything\n",
    "Code without documention is unusable. And there are now so many tools for creating and using documentation that there are no excuses either 😉\n",
    "\n",
    "----------\n",
    "<center>\n",
    "<img src=\"https://preview.redd.it/0jelwo9pgcv21.jpg?width=640&crop=smart&auto=webp&s=afc465891e9cd751e8cb866612cff494c60b7a8a\" width=\"400px\">\n",
    "\n",
    "**Sometimes it is easiest to start from scratch...**\n",
    "</center>\n",
    "\n",
    "---------\n",
    "\n",
    "To demonstrate some of the above principals, lets break our \"hero code\" example into chunks that fit with our design principles. \n"
   ]
  },
  {
   "cell_type": "markdown",
   "metadata": {
    "id": "eVTEQpyuBLDT"
   },
   "source": [
    "#### Exercise\n",
    "\n",
    "Define a set of functions (no need to implement them) that breaks the above hero code into chunks that conform especially with the KISS and DRY principles. Also write docstrings for these functions following the [google docstrings](https://gist.github.com/redlotus/3bc387c2591e3e908c9b63b97b11d24e) style. If done consistently (from the start of a project!) these can then easily be converted to a friendly website, such as for [hylite](https://hifexplo.github.io/hylite/hylite.html)."
   ]
  },
  {
   "cell_type": "code",
   "execution_count": null,
   "metadata": {
    "id": "Yf7lbImZBBT6"
   },
   "outputs": [],
   "source": [
    "# write functions here"
   ]
  },
  {
   "cell_type": "code",
   "execution_count": null,
   "metadata": {
    "colab": {
     "base_uri": "https://localhost:8080/",
     "height": 539
    },
    "id": "uNMphGsGBRkI",
    "outputId": "d5526b67-02f5-46ee-f4b6-6ae37ef19939"
   },
   "outputs": [],
   "source": [
    "# write test code here (more on this later!)\n"
   ]
  },
  {
   "cell_type": "markdown",
   "metadata": {
    "id": "EtQjasGxGN97"
   },
   "source": [
    "## Part three: Testing and modules\n",
    "\n",
    "### Testing\n",
    "While the code above gives us some confidence that our functions are doing what they should, it is best practice to write some python functions that can do this automatically. Then, if you make some cool improvments or changes you can just run these test functions to see if your code still works.\n",
    "\n",
    "Python provides several *testing frameworks* to help with this, but to start with we'll write some test functions using pytest.\n",
    "\n"
   ]
  },
  {
   "cell_type": "code",
   "execution_count": null,
   "metadata": {
    "id": "_YZUxVGzVPwM"
   },
   "outputs": [],
   "source": [
    "!pip install pytest\n",
    "# clear output (it isn't easy being clean!)\n",
    "from IPython.display import clear_output\n",
    "clear_output()"
   ]
  },
  {
   "cell_type": "markdown",
   "metadata": {
    "id": "0gsPs31JVX7Z"
   },
   "source": [
    "While we could probably convert our code the test cells above into pytest functions, this is not generally good practice as it relies on external data. This is the biggest challenge when writing good test code - (1) how do I automatically generate a realistic input for my function (think intput data), and (2) how do I know if the results are correct?\n",
    "\n",
    "For the case of K-means it is not too hard however - as we can create a synthetic dataset with three subclusters."
   ]
  },
  {
   "cell_type": "code",
   "execution_count": null,
   "metadata": {
    "id": "VdN6Odj9V13x"
   },
   "outputs": [],
   "source": [
    "def generate_data(n=3,ndims=10,points_per_class=10):\n",
    "    \"\"\"\n",
    "    Generate a synthetic dataset with n clusters for testing k-means.\n",
    "    \"\"\"\n",
    "    X = []\n",
    "    for i in range(n):\n",
    "    X.append( i*3 + np.random.rand(points_per_class,ndims))\n",
    "    return np.vstack(X)\n",
    "\n",
    "def test_pca():\n",
    "    \"\"\"\n",
    "    N.B. This test function simply runs code but does not check its output - this\n",
    "       a \"shallow\" test.\n",
    "    \"\"\"\n",
    "    X = generate_data(3,10,10)\n",
    "\n",
    "    loadings, mean = pca_loadings( X, step=1, ndims=3 )\n",
    "    assert loadings.shape == (10,3), \"Error - loadings returned wrong shape (%s).\" % loadings.shape\n",
    "\n",
    "    pca = apply_loadings( X, loadings )\n",
    "    assert pca.shape == (30,3), \"Error - pca returned wrong shape (%s).\" % pca.shape\n",
    "\n",
    "def test_kmeans():\n",
    "    X = generate_data(3,10,50)\n",
    "    X=X.reshape( (15,10,10) ) # change shape of inputs to test shape independence\n",
    "    loadings, mean = pca_loadings( X, step=2, ndims=2 ) # try to ensure test functions test a wide range of parameter configurations\n",
    "    pca = apply_loadings( X, loadings )\n",
    "    centroids, clss =  kmeans(pca, 3 )\n",
    "\n",
    "    # check classification is correct\n",
    "    clss = clss.ravel()\n",
    "    assert len(np.unique(clss)) == 3, \"Error - kmeans gave incorrect number of classes\"\n",
    "    assert (clss[:50] == clss[0]).all(), \"Error - kmeans gave incorrect classification.\"\n",
    "    assert (clss[50:100] == clss[50]).all(), \"Error - kmeans gave incorrect classification.\"\n",
    "    assert (clss[100:-1] == clss[100]).all(), \"Error - kmeans gave incorrect classification.\"\n",
    "  \n"
   ]
  },
  {
   "cell_type": "code",
   "execution_count": null,
   "metadata": {
    "colab": {
     "base_uri": "https://localhost:8080/"
    },
    "id": "x8gb_-r8hStb",
    "outputId": "ef302980-75f6-4637-b912-96e921ebc622"
   },
   "outputs": [],
   "source": [
    "# running tests is as easy as this now!\n",
    "test_pca()\n",
    "test_kmeans()\n",
    "print(\"All tests passed!\")"
   ]
  },
  {
   "cell_type": "markdown",
   "metadata": {
    "id": "q-8ZrKmLZFk_"
   },
   "source": [
    "Now that we have these automatic test functions, we can put them in a python file that accompanies our module. But first - we need a module!"
   ]
  },
  {
   "cell_type": "markdown",
   "metadata": {
    "id": "BQBT9IRTUfu1"
   },
   "source": [
    "\n",
    "### Modules\n",
    "Modules (or *packages*) are containers of code that can be easily loaded into a python script using the `import` statement. This makes code much much easier to reuse (rather than e.g., copying our functions into every notebook we want to use them in).\n",
    "\n",
    "\n",
    "Unfortunately, to create a module we have to move out of the jupyter notebook environment, but (fortunately) the community of geeks on GitHub can provide a template package we can pull from and then modify.\n"
   ]
  },
  {
   "cell_type": "code",
   "execution_count": null,
   "metadata": {
    "colab": {
     "base_uri": "https://localhost:8080/"
    },
    "id": "dFUDLiesECR-",
    "outputId": "feb960be-002e-4bcc-a58e-bb5bfa60c9d4"
   },
   "outputs": [],
   "source": [
    "# download a template python package\n",
    "!git clone https://github.com/hbergen/minimal-python-package.git"
   ]
  },
  {
   "cell_type": "markdown",
   "metadata": {
    "id": "40H7vlw2HXZV"
   },
   "source": [
    "The above will have downloaded a template package for us. If we look into this we will see the key ingredients of a python package:\n",
    "\n",
    "1. *winterfell*: This directory actually is our python package. **Rename this to whatever you want your call your toolbox** - I chose *samsatool*\n",
    "\n",
    "2. *winterfell/__init__.py*: This is what makes the directory a package. Code in this file will be called when we import the package. **Copy the functions we declared above into this file, along with the relevant import statements.**\n",
    "\n",
    "\n",
    "3. *setup.py*: this script explains how python should install this package. Details of this are beyond the scope of this tutorial, but open it and have a look. Among other things, it contains the metadata for our python package (e.g. author, licence, etc.). **In the *packages* entry change 'winterfell' to your package name**\n",
    "\n",
    "4. Create a new python file called **tests.py** and copy our test functions into this. \n",
    "\n",
    "These tests can then be run automatically using:"
   ]
  },
  {
   "cell_type": "code",
   "execution_count": null,
   "metadata": {
    "colab": {
     "base_uri": "https://localhost:8080/"
    },
    "id": "yW-Z-Go4aSLC",
    "outputId": "92aa5f07-191d-497c-9465-6b32049558df"
   },
   "outputs": [],
   "source": [
    "!python -m pytest minimal-python-package/tests.py"
   ]
  },
  {
   "cell_type": "markdown",
   "metadata": {
    "id": "esy1CEWGaRB4"
   },
   "source": [
    "If our tests all passed, now we can **install** our new python toolbox!"
   ]
  },
  {
   "cell_type": "code",
   "execution_count": null,
   "metadata": {
    "colab": {
     "base_uri": "https://localhost:8080/"
    },
    "id": "aZCIlpOcHTzA",
    "outputId": "a63661e2-03a3-48cb-956e-b4e4c5616a6b"
   },
   "outputs": [],
   "source": [
    "!pip install ./minimal-python-package"
   ]
  },
  {
   "cell_type": "markdown",
   "metadata": {
    "id": "lQoQLb78JaQ1"
   },
   "source": [
    "Assuming it installed properly (fingers crossed!) we can now import our fantastic functions and use them without having to see all that nasty code!"
   ]
  },
  {
   "cell_type": "code",
   "execution_count": null,
   "metadata": {
    "id": "dn_JBOpOJZQh"
   },
   "outputs": [],
   "source": [
    "import samsatool\n",
    "#from importlib import reload  # use this to force reload a module after reinstalling\n",
    "#reload(samsatool) # (if you made a mistake)\n",
    "from samsatool import nearest_neighbour, kmeans\n",
    "from samsatool import apply_loadings, pca_loadings"
   ]
  },
  {
   "cell_type": "code",
   "execution_count": null,
   "metadata": {
    "colab": {
     "base_uri": "https://localhost:8080/"
    },
    "id": "JqMAhmGaJYnX",
    "outputId": "210df0e0-e16c-4c33-c1cb-9602e07fd422"
   },
   "outputs": [],
   "source": [
    "# show the help docstrings for our functions\n",
    "help( pca_loadings ) "
   ]
  },
  {
   "cell_type": "code",
   "execution_count": null,
   "metadata": {
    "colab": {
     "base_uri": "https://localhost:8080/",
     "height": 252
    },
    "id": "oJ07qD77KWJU",
    "outputId": "2c7e947a-663d-4a4f-9d2d-86decc9b6b9f"
   },
   "outputs": [],
   "source": [
    "import hylite\n",
    "from hylite import io\n",
    "\n",
    "# apply these to a different image to show how they work\n",
    "image = io.load('sampleB.hdr')\n",
    "\n",
    "loadings, mean = pca_loadings(image.data)\n",
    "pca = apply_loadings(image.data, loadings)\n",
    "centroids, clss =  kmeans(pca, 3 )\n",
    "\n",
    "fig,ax = hylite.HyImage(clss[...,None]).quick_plot(0, figsize=(4,4), rot=True)\n",
    "fig.show()"
   ]
  },
  {
   "cell_type": "markdown",
   "metadata": {
    "id": "GJmSW8lCOh6F"
   },
   "source": [
    "### Part four: Where next with GIT?\n",
    "\n",
    "So far we have only used a single git command - *git clone* - for downloading code from e.g., github. While this is by far the most common git operation, it can obviously do far far more.\n",
    "\n",
    "I would suggest looking at a proper [git tutorial](https://medium.com/swlh/an-introduction-to-git-and-github-22ecb4cb1256) to learn about the basics of creating and updating git repositories using *stage*, *commit*, *push* and *pull*. But GoogleColab really isn't the place to do that as setting up git permissions here be rather messy....\n",
    "\n",
    "Instead, lets look at some of the more advanced things that a git repository can do, as inspiration to help justify the (potentially steep) learning curve.\n",
    "\n",
    "- [version control and releases](https://docs.github.com/en/repositories/releasing-projects-on-github/about-releases)\n",
    "- [automatic testing](https://docs.github.com/en/actions/automating-builds-and-tests/building-and-testing-python)\n",
    "- [build and host documentation websites](https://docs.github.com/en/pages)\n",
    "\n",
    "The [hylite](https://github.com/hifexplo/hylite) repository uses all of these - have an explore, especially inside the [.github/workflows](https://github.com/hifexplo/hylite/tree/master/.github/workflows) folder. Also see how [tags](https://github.com/hifexplo/hylite/tags) can be used to create and store different releases.\n",
    "\n",
    "\n",
    "\n",
    "-----\n",
    "\n",
    "<center><img src=\"https://miro.medium.com/max/1400/1*B-OPCn67xfe4POnbiJL0Rw.png\" width=\"400px\"></center>\n",
    "\n",
    "----------"
   ]
  },
  {
   "cell_type": "markdown",
   "metadata": {
    "id": "hwc8wSNIiNPy"
   },
   "source": [
    "## Part Five: Some conclusions\n",
    "\n",
    "1. Software is a compromise between functionality and complexity (which detetermines robustness and maintainability). Complexity is often necessary, but basic principles like DRY can help keep it to a minimum.\n",
    "\n",
    "2. Test, test and then test again. And where possible, write reusable test code - your future self will love you for it (even though it's boring).\n",
    "\n",
    "3. Document completely. Code without documentation is like a bike without pedals - completely useless.\n",
    "\n",
    "4. Everyone starts with hero code - that's normal - but generally it pays off to rewrite the good bits properly 🤓\n",
    "\n",
    "\n",
    "<center>\n",
    "<img src=\"https://pics.me.me/brenan-keller-brenankeller-a-qa-engineer-walks-into-a-bar-66974927.png\" width=\"400px\">\n",
    "</center>"
   ]
  },
  {
   "cell_type": "code",
   "execution_count": null,
   "metadata": {
    "id": "4SjXIBEdOPVs"
   },
   "outputs": [],
   "source": []
  }
 ],
 "metadata": {
  "colab": {
   "collapsed_sections": [],
   "provenance": []
  },
  "kernelspec": {
   "display_name": "Python 3 (ipykernel)",
   "language": "python",
   "name": "python3"
  },
  "language_info": {
   "codemirror_mode": {
    "name": "ipython",
    "version": 3
   },
   "file_extension": ".py",
   "mimetype": "text/x-python",
   "name": "python",
   "nbconvert_exporter": "python",
   "pygments_lexer": "ipython3",
   "version": "3.8.10"
  }
 },
 "nbformat": 4,
 "nbformat_minor": 1
}
